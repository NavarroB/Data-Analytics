{
 "cells": [
  {
   "cell_type": "markdown",
   "metadata": {},
   "source": [
    "## Data Analysis with Scikit Learn\n",
    "\n",
    "ScikitLearn provides a lot of different classification and clustering algorithms. The application of those algorithms always follows a similar process: \n",
    "\n",
    "1. Loading the data\n",
    "2. Exploring the data\n",
    "3. Data Transformation\n",
    "4. Preparing training and test data\n",
    "5. Classification \n",
    "6. Performance evaluation\n",
    "\n",
    "Let us start with the imports... It is good practice to do that at the beginning of your coding. In case you find out that you need more imports, you can add them later."
   ]
  },
  {
   "cell_type": "code",
   "execution_count": 49,
   "metadata": {},
   "outputs": [],
   "source": [
    "import pandas as pd\n",
    "\n",
    "from sklearn import preprocessing\n",
    "from sklearn.model_selection import train_test_split\n",
    "from sklearn.tree import DecisionTreeClassifier\n",
    "\n",
    "import seaborn as sns"
   ]
  },
  {
   "cell_type": "markdown",
   "metadata": {},
   "source": [
    "### Loading the data"
   ]
  },
  {
   "cell_type": "code",
   "execution_count": 22,
   "metadata": {},
   "outputs": [],
   "source": [
    "df = pd.read_csv('data/titanic.csv')"
   ]
  },
  {
   "cell_type": "markdown",
   "metadata": {},
   "source": [
    "### Exploring the data\n",
    "\n",
    "Looking at the data helps you\n",
    "- identify noisy data such as missing values\n",
    "- attributes you need to transform in order to use them for classification\n",
    "- aquire domain knowledge. What attributes might affect the classification the most?\n",
    "\n",
    "This part can take a lot of time. In this example, we will (only) look at the most common data analysis questions. "
   ]
  },
  {
   "cell_type": "markdown",
   "metadata": {},
   "source": [
    "Is the data ok in principle? Are there missing values? \n",
    "You can check this for the different attributes with the info() method."
   ]
  },
  {
   "cell_type": "code",
   "execution_count": 28,
   "metadata": {},
   "outputs": [
    {
     "name": "stdout",
     "output_type": "stream",
     "text": [
      "<class 'pandas.core.frame.DataFrame'>\n",
      "RangeIndex: 891 entries, 0 to 890\n",
      "Data columns (total 12 columns):\n",
      "PassengerId    891 non-null int64\n",
      "Survived       891 non-null int64\n",
      "Pclass         891 non-null int64\n",
      "Name           891 non-null object\n",
      "Sex            891 non-null object\n",
      "Age            714 non-null float64\n",
      "SibSp          891 non-null int64\n",
      "Parch          891 non-null int64\n",
      "Ticket         891 non-null object\n",
      "Fare           891 non-null float64\n",
      "Cabin          204 non-null object\n",
      "Embarked       889 non-null object\n",
      "dtypes: float64(2), int64(5), object(5)\n",
      "memory usage: 83.6+ KB\n"
     ]
    }
   ],
   "source": [
    "df.info()"
   ]
  },
  {
   "cell_type": "markdown",
   "metadata": {},
   "source": [
    "As you can see, there are 891 instances (i.e. passengers that either survived or not). Most of the attributes have 891 non-null values expect of Age, Cabin and Embarked. If you think those attributes are not important for your analysis, you can just drop them. If you want to include them, you need to fill the missing values with standard values (for example the mean of the column). In this example, we will not use them for classification."
   ]
  },
  {
   "cell_type": "markdown",
   "metadata": {},
   "source": [
    "How do we decide, which attributes to keep? Besides removing noisy data, we also look at the distribution of values of the different columns. To visualize the distribution, we import the library `seaborn`. As you can see, the third class was mainly occupied by men. "
   ]
  },
  {
   "cell_type": "code",
   "execution_count": 52,
   "metadata": {},
   "outputs": [
    {
     "data": {
      "text/plain": [
       "<seaborn.axisgrid.FacetGrid at 0x1e0a0ef9da0>"
      ]
     },
     "execution_count": 52,
     "metadata": {},
     "output_type": "execute_result"
    },
    {
     "data": {
      "image/png": "[encoded data removed]",
      "text/plain": [
       "<Figure size 402.375x360 with 1 Axes>"
      ]
     },
     "metadata": {
      "needs_background": "light"
     },
     "output_type": "display_data"
    }
   ],
   "source": [
    "sns.catplot('Sex',data=df,hue='Pclass',kind='count')\n",
    "#df.groupby('Survived').Pclass.hist()"
   ]
  },
  {
   "cell_type": "markdown",
   "metadata": {},
   "source": [
    "### Data Transformation\n",
    "\n",
    "Are there variables we need to transform? For example, the classification algorithms can not deal with object variables. If we want to include them in the classification process, we need to transform them into Integer variables. The 'Sex' attribute is probably of high importance as more women survived than men. So it is worth to include 'Sex' into the classification dataset. Therefore, we need to transform it.\n",
    "\n",
    "First we have a closer look with the describe() method. "
   ]
  },
  {
   "cell_type": "code",
   "execution_count": 33,
   "metadata": {},
   "outputs": [
    {
     "name": "stdout",
     "output_type": "stream",
     "text": [
      "count      891\n",
      "unique       2\n",
      "top       male\n",
      "freq       577\n",
      "Name: Sex, dtype: object\n",
      "['male' 'female']\n"
     ]
    }
   ],
   "source": [
    "print(df['Sex'].describe())\n"
   ]
  },
  {
   "cell_type": "markdown",
   "metadata": {},
   "source": [
    "To show the different values, you can use the unique() method. These values are then transformed by the LabelEncoder of Pandas Preprocessing\n",
    "Library. We could also use OneHotEncoding (check the documentary), but as we have a binary variable, the LabelEncoder is \n",
    "ok. Basically, the attribute value 'male' is transformed into '0', the attribute 'female' is transformed into 1."
   ]
  },
  {
   "cell_type": "code",
   "execution_count": 34,
   "metadata": {},
   "outputs": [
    {
     "name": "stdout",
     "output_type": "stream",
     "text": [
      "['male' 'female']\n"
     ]
    }
   ],
   "source": [
    "print(df['Sex'].unique())"
   ]
  },
  {
   "cell_type": "code",
   "execution_count": 53,
   "metadata": {},
   "outputs": [],
   "source": [
    "# LabelEncoder can be used to transform non-numerical labels into numerical ones\n",
    "labelenc = preprocessing.LabelEncoder()\n",
    "# Fit variable Sex \n",
    "labelenc.fit(df.Sex)\n",
    "df['sex_transform'] = labelenc.transform(df.Sex)"
   ]
  },
  {
   "cell_type": "markdown",
   "metadata": {},
   "source": [
    "### Preparing training and test data\n",
    "\n",
    "For our final training dataset, we select only a few of the columns provided in the dataset. The data is assigned to a new variable `train`. You can select certain columns with the `loc` method. `loc[:,['Age']]` means, that you select all rows, but only the `Age` column.\n",
    "\n",
    "We will not select instances with null values. In order to drop those instances, you can use the method `dropna()`."
   ]
  },
  {
   "cell_type": "code",
   "execution_count": 38,
   "metadata": {},
   "outputs": [
    {
     "data": {
      "text/plain": [
       "(714, 4)"
      ]
     },
     "execution_count": 38,
     "metadata": {},
     "output_type": "execute_result"
    }
   ],
   "source": [
    "train = df.loc[:,['Age', 'Fare', 'sex_transform', 'Survived']].dropna()\n",
    "train.shape"
   ]
  },
  {
   "cell_type": "markdown",
   "metadata": {},
   "source": [
    "The type of machine learning we will be doing is called classification, because when we make predictions we are classifying each passenger as survived or not. More specifically, we are performing binary classification, which means that there are only two different states we are classifying. \n",
    "\n",
    "The attribute containing the information wether a passenger survived or not is the 'Survived' attribute. This is the target variable. `Age`, `Fare` and `sex_transform` are the feature variables, describing the different instances. \n",
    "\n",
    "Seperate data into the feature variables and the target variables. The variable `y` contains the target variable. `X` contains the feature variables."
   ]
  },
  {
   "cell_type": "code",
   "execution_count": 37,
   "metadata": {},
   "outputs": [],
   "source": [
    "y = train['Survived']\n",
    "X = train.drop('Survived', axis=1)"
   ]
  },
  {
   "cell_type": "markdown",
   "metadata": {},
   "source": [
    "Next, we split the data into training and test data. The training data is used to build a classification model, in our case a Decision Tree classifier. The test data can be used to evaluate our model. Training and test data are separate datasets, because we want to avoid any bias. The model is supposed to work well on unknown examples, not on examples already looked at of the training dataset.\n",
    "\n",
    "We imported the method `train_test_split` from `sklearn.model_selection`. This method can be used for the creation of train and test data. We will do this for the features as well as for the target variable. The test dataset can be smaller than the training dataset (about 40%). Training and test examples are selected randomly."
   ]
  },
  {
   "cell_type": "code",
   "execution_count": 16,
   "metadata": {},
   "outputs": [],
   "source": [
    "X_train, X_test, y_train, y_test = train_test_split(X, y, test_size=0.4, random_state=10, shuffle = True)"
   ]
  },
  {
   "cell_type": "markdown",
   "metadata": {},
   "source": [
    "### Classification\n",
    "\n",
    "The classification itself is not much code. Of course, we could tune different parameters or look at different machine learning methods. But lets keep it simple and focus on the simple `Decision Tree Classifier`.\n",
    "\n",
    "We first initialize the classifier. In scikit-learn, an estimator for classification (i.e. the classifier) is a Python object that implements the methods `fit(X, y)` and `predict(T)`. The estimator's constructor takes as input the model parameter. For the `Decision Tree Classifier` we define the maximal depth of the tree, which is 5."
   ]
  },
  {
   "cell_type": "code",
   "execution_count": 18,
   "metadata": {},
   "outputs": [],
   "source": [
    "clf = DecisionTreeClassifier(max_depth=5)"
   ]
  },
  {
   "cell_type": "markdown",
   "metadata": {},
   "source": [
    "The classifier is then trained with the `fit()` method. The fitting takes place with the training data. "
   ]
  },
  {
   "cell_type": "code",
   "execution_count": 19,
   "metadata": {},
   "outputs": [
    {
     "data": {
      "text/plain": [
       "DecisionTreeClassifier(class_weight=None, criterion='gini', max_depth=5,\n",
       "            max_features=None, max_leaf_nodes=None,\n",
       "            min_impurity_decrease=0.0, min_impurity_split=None,\n",
       "            min_samples_leaf=1, min_samples_split=2,\n",
       "            min_weight_fraction_leaf=0.0, presort=False, random_state=None,\n",
       "            splitter='best')"
      ]
     },
     "execution_count": 19,
     "metadata": {},
     "output_type": "execute_result"
    }
   ],
   "source": [
    "clf.fit(X_train, y_train)"
   ]
  },
  {
   "cell_type": "markdown",
   "metadata": {},
   "source": [
    "### Performance evaluation\n",
    "\n",
    "Finally, we are curious wether the fitted model performs well on new training data. The `score()` method computes the default score for the specific classification method. In our case, this is the accuracy value. "
   ]
  },
  {
   "cell_type": "code",
   "execution_count": 20,
   "metadata": {},
   "outputs": [
    {
     "data": {
      "text/plain": [
       "0.7937062937062938"
      ]
     },
     "execution_count": 20,
     "metadata": {},
     "output_type": "execute_result"
    }
   ],
   "source": [
    "# Computation of the metric\n",
    "clf.score(X_test, y_test)"
   ]
  },
  {
   "cell_type": "code",
   "execution_count": null,
   "metadata": {},
   "outputs": [],
   "source": []
  }
 ],
 "metadata": {
  "kernelspec": {
   "display_name": "Python [conda env:Anaconda3]",
   "language": "python",
   "name": "conda-env-Anaconda3-py"
  },
  "language_info": {
   "codemirror_mode": {
    "name": "ipython",
    "version": 3
   },
   "file_extension": ".py",
   "mimetype": "text/x-python",
   "name": "python",
   "nbconvert_exporter": "python",
   "pygments_lexer": "ipython3",
   "version": "3.7.1"
  }
 },
 "nbformat": 4,
 "nbformat_minor": 2
}
